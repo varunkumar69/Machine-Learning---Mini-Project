{
  "nbformat": 4,
  "nbformat_minor": 0,
  "metadata": {
    "colab": {
      "name": "bank_loan_classifn_using_ensemble.ipynb",
      "provenance": []
    },
    "kernelspec": {
      "display_name": "Python 3",
      "language": "python",
      "name": "python3"
    },
    "language_info": {
      "codemirror_mode": {
        "name": "ipython",
        "version": 3
      },
      "file_extension": ".py",
      "mimetype": "text/x-python",
      "name": "python",
      "nbconvert_exporter": "python",
      "pygments_lexer": "ipython3",
      "version": "3.8.3"
    }
  },
  "cells": [
    {
      "cell_type": "code",
      "metadata": {
        "id": "MqcSxECC6Ei4"
      },
      "source": [
        "#Program using Ensemble methods\n",
        "#In this program we have to classify whether a loan will be issued or not based on certain parameters\n",
        "#We have used Averaging Ensemble method and have used models like Logistic Regression,Random Forest,Decision Tree\n",
        "# and Support vector machine"
      ],
      "execution_count": null,
      "outputs": []
    },
    {
      "cell_type": "code",
      "metadata": {
        "id": "rTU-jB6s-e_2"
      },
      "source": [
        "import pandas as pd\n",
        "df=pd.read_csv(\"UniversalBank.csv\")"
      ],
      "execution_count": null,
      "outputs": []
    },
    {
      "cell_type": "code",
      "metadata": {
        "id": "CuOPTjVs_9Vq",
        "outputId": "4b63a63e-64d5-43b8-f16b-ff13121320eb",
        "colab": {
          "base_uri": "https://localhost:8080/",
          "height": 87
        }
      },
      "source": [
        "df.columns"
      ],
      "execution_count": null,
      "outputs": [
        {
          "output_type": "execute_result",
          "data": {
            "text/plain": [
              "Index(['ID', 'Age', 'Experience', 'Income', 'ZIP Code', 'Family', 'CCAvg',\n",
              "       'Education', 'Mortgage', 'Personal Loan', 'Securities Account',\n",
              "       'CD Account', 'Online', 'CreditCard'],\n",
              "      dtype='object')"
            ]
          },
          "metadata": {
            "tags": []
          },
          "execution_count": 2
        }
      ]
    },
    {
      "cell_type": "code",
      "metadata": {
        "id": "tq46AIkRAEUi",
        "outputId": "13e0adf4-87f1-4250-a77e-550b0a21dba5",
        "colab": {
          "base_uri": "https://localhost:8080/",
          "height": 202
        }
      },
      "source": [
        "df.head(20)"
      ],
      "execution_count": null,
      "outputs": [
        {
          "output_type": "execute_result",
          "data": {
            "text/html": [
              "<div>\n",
              "<style scoped>\n",
              "    .dataframe tbody tr th:only-of-type {\n",
              "        vertical-align: middle;\n",
              "    }\n",
              "\n",
              "    .dataframe tbody tr th {\n",
              "        vertical-align: top;\n",
              "    }\n",
              "\n",
              "    .dataframe thead th {\n",
              "        text-align: right;\n",
              "    }\n",
              "</style>\n",
              "<table border=\"1\" class=\"dataframe\">\n",
              "  <thead>\n",
              "    <tr style=\"text-align: right;\">\n",
              "      <th></th>\n",
              "      <th>ID</th>\n",
              "      <th>Age</th>\n",
              "      <th>Experience</th>\n",
              "      <th>Income</th>\n",
              "      <th>ZIP Code</th>\n",
              "      <th>Family</th>\n",
              "      <th>CCAvg</th>\n",
              "      <th>Education</th>\n",
              "      <th>Mortgage</th>\n",
              "      <th>Personal Loan</th>\n",
              "      <th>Securities Account</th>\n",
              "      <th>CD Account</th>\n",
              "      <th>Online</th>\n",
              "      <th>CreditCard</th>\n",
              "    </tr>\n",
              "  </thead>\n",
              "  <tbody>\n",
              "    <tr>\n",
              "      <th>0</th>\n",
              "      <td>1</td>\n",
              "      <td>25</td>\n",
              "      <td>1</td>\n",
              "      <td>49</td>\n",
              "      <td>91107</td>\n",
              "      <td>4</td>\n",
              "      <td>1.6</td>\n",
              "      <td>1</td>\n",
              "      <td>0</td>\n",
              "      <td>0</td>\n",
              "      <td>1</td>\n",
              "      <td>0</td>\n",
              "      <td>0</td>\n",
              "      <td>0</td>\n",
              "    </tr>\n",
              "    <tr>\n",
              "      <th>1</th>\n",
              "      <td>2</td>\n",
              "      <td>45</td>\n",
              "      <td>19</td>\n",
              "      <td>34</td>\n",
              "      <td>90089</td>\n",
              "      <td>3</td>\n",
              "      <td>1.5</td>\n",
              "      <td>1</td>\n",
              "      <td>0</td>\n",
              "      <td>0</td>\n",
              "      <td>1</td>\n",
              "      <td>0</td>\n",
              "      <td>0</td>\n",
              "      <td>0</td>\n",
              "    </tr>\n",
              "    <tr>\n",
              "      <th>2</th>\n",
              "      <td>3</td>\n",
              "      <td>39</td>\n",
              "      <td>15</td>\n",
              "      <td>11</td>\n",
              "      <td>94720</td>\n",
              "      <td>1</td>\n",
              "      <td>1.0</td>\n",
              "      <td>1</td>\n",
              "      <td>0</td>\n",
              "      <td>0</td>\n",
              "      <td>0</td>\n",
              "      <td>0</td>\n",
              "      <td>0</td>\n",
              "      <td>0</td>\n",
              "    </tr>\n",
              "    <tr>\n",
              "      <th>3</th>\n",
              "      <td>4</td>\n",
              "      <td>35</td>\n",
              "      <td>9</td>\n",
              "      <td>100</td>\n",
              "      <td>94112</td>\n",
              "      <td>1</td>\n",
              "      <td>2.7</td>\n",
              "      <td>2</td>\n",
              "      <td>0</td>\n",
              "      <td>0</td>\n",
              "      <td>0</td>\n",
              "      <td>0</td>\n",
              "      <td>0</td>\n",
              "      <td>0</td>\n",
              "    </tr>\n",
              "    <tr>\n",
              "      <th>4</th>\n",
              "      <td>5</td>\n",
              "      <td>35</td>\n",
              "      <td>8</td>\n",
              "      <td>45</td>\n",
              "      <td>91330</td>\n",
              "      <td>4</td>\n",
              "      <td>1.0</td>\n",
              "      <td>2</td>\n",
              "      <td>0</td>\n",
              "      <td>0</td>\n",
              "      <td>0</td>\n",
              "      <td>0</td>\n",
              "      <td>0</td>\n",
              "      <td>1</td>\n",
              "    </tr>\n",
              "    <tr>\n",
              "      <th>5</th>\n",
              "      <td>6</td>\n",
              "      <td>37</td>\n",
              "      <td>13</td>\n",
              "      <td>29</td>\n",
              "      <td>92121</td>\n",
              "      <td>4</td>\n",
              "      <td>0.4</td>\n",
              "      <td>2</td>\n",
              "      <td>155</td>\n",
              "      <td>0</td>\n",
              "      <td>0</td>\n",
              "      <td>0</td>\n",
              "      <td>1</td>\n",
              "      <td>0</td>\n",
              "    </tr>\n",
              "    <tr>\n",
              "      <th>6</th>\n",
              "      <td>7</td>\n",
              "      <td>53</td>\n",
              "      <td>27</td>\n",
              "      <td>72</td>\n",
              "      <td>91711</td>\n",
              "      <td>2</td>\n",
              "      <td>1.5</td>\n",
              "      <td>2</td>\n",
              "      <td>0</td>\n",
              "      <td>0</td>\n",
              "      <td>0</td>\n",
              "      <td>0</td>\n",
              "      <td>1</td>\n",
              "      <td>0</td>\n",
              "    </tr>\n",
              "    <tr>\n",
              "      <th>7</th>\n",
              "      <td>8</td>\n",
              "      <td>50</td>\n",
              "      <td>24</td>\n",
              "      <td>22</td>\n",
              "      <td>93943</td>\n",
              "      <td>1</td>\n",
              "      <td>0.3</td>\n",
              "      <td>3</td>\n",
              "      <td>0</td>\n",
              "      <td>0</td>\n",
              "      <td>0</td>\n",
              "      <td>0</td>\n",
              "      <td>0</td>\n",
              "      <td>1</td>\n",
              "    </tr>\n",
              "    <tr>\n",
              "      <th>8</th>\n",
              "      <td>9</td>\n",
              "      <td>35</td>\n",
              "      <td>10</td>\n",
              "      <td>81</td>\n",
              "      <td>90089</td>\n",
              "      <td>3</td>\n",
              "      <td>0.6</td>\n",
              "      <td>2</td>\n",
              "      <td>104</td>\n",
              "      <td>0</td>\n",
              "      <td>0</td>\n",
              "      <td>0</td>\n",
              "      <td>1</td>\n",
              "      <td>0</td>\n",
              "    </tr>\n",
              "    <tr>\n",
              "      <th>9</th>\n",
              "      <td>10</td>\n",
              "      <td>34</td>\n",
              "      <td>9</td>\n",
              "      <td>180</td>\n",
              "      <td>93023</td>\n",
              "      <td>1</td>\n",
              "      <td>8.9</td>\n",
              "      <td>3</td>\n",
              "      <td>0</td>\n",
              "      <td>1</td>\n",
              "      <td>0</td>\n",
              "      <td>0</td>\n",
              "      <td>0</td>\n",
              "      <td>0</td>\n",
              "    </tr>\n",
              "    <tr>\n",
              "      <th>10</th>\n",
              "      <td>11</td>\n",
              "      <td>65</td>\n",
              "      <td>39</td>\n",
              "      <td>105</td>\n",
              "      <td>94710</td>\n",
              "      <td>4</td>\n",
              "      <td>2.4</td>\n",
              "      <td>3</td>\n",
              "      <td>0</td>\n",
              "      <td>0</td>\n",
              "      <td>0</td>\n",
              "      <td>0</td>\n",
              "      <td>0</td>\n",
              "      <td>0</td>\n",
              "    </tr>\n",
              "    <tr>\n",
              "      <th>11</th>\n",
              "      <td>12</td>\n",
              "      <td>29</td>\n",
              "      <td>5</td>\n",
              "      <td>45</td>\n",
              "      <td>90277</td>\n",
              "      <td>3</td>\n",
              "      <td>0.1</td>\n",
              "      <td>2</td>\n",
              "      <td>0</td>\n",
              "      <td>0</td>\n",
              "      <td>0</td>\n",
              "      <td>0</td>\n",
              "      <td>1</td>\n",
              "      <td>0</td>\n",
              "    </tr>\n",
              "    <tr>\n",
              "      <th>12</th>\n",
              "      <td>13</td>\n",
              "      <td>48</td>\n",
              "      <td>23</td>\n",
              "      <td>114</td>\n",
              "      <td>93106</td>\n",
              "      <td>2</td>\n",
              "      <td>3.8</td>\n",
              "      <td>3</td>\n",
              "      <td>0</td>\n",
              "      <td>0</td>\n",
              "      <td>1</td>\n",
              "      <td>0</td>\n",
              "      <td>0</td>\n",
              "      <td>0</td>\n",
              "    </tr>\n",
              "    <tr>\n",
              "      <th>13</th>\n",
              "      <td>14</td>\n",
              "      <td>59</td>\n",
              "      <td>32</td>\n",
              "      <td>40</td>\n",
              "      <td>94920</td>\n",
              "      <td>4</td>\n",
              "      <td>2.5</td>\n",
              "      <td>2</td>\n",
              "      <td>0</td>\n",
              "      <td>0</td>\n",
              "      <td>0</td>\n",
              "      <td>0</td>\n",
              "      <td>1</td>\n",
              "      <td>0</td>\n",
              "    </tr>\n",
              "    <tr>\n",
              "      <th>14</th>\n",
              "      <td>15</td>\n",
              "      <td>67</td>\n",
              "      <td>41</td>\n",
              "      <td>112</td>\n",
              "      <td>91741</td>\n",
              "      <td>1</td>\n",
              "      <td>2.0</td>\n",
              "      <td>1</td>\n",
              "      <td>0</td>\n",
              "      <td>0</td>\n",
              "      <td>1</td>\n",
              "      <td>0</td>\n",
              "      <td>0</td>\n",
              "      <td>0</td>\n",
              "    </tr>\n",
              "    <tr>\n",
              "      <th>15</th>\n",
              "      <td>16</td>\n",
              "      <td>60</td>\n",
              "      <td>30</td>\n",
              "      <td>22</td>\n",
              "      <td>95054</td>\n",
              "      <td>1</td>\n",
              "      <td>1.5</td>\n",
              "      <td>3</td>\n",
              "      <td>0</td>\n",
              "      <td>0</td>\n",
              "      <td>0</td>\n",
              "      <td>0</td>\n",
              "      <td>1</td>\n",
              "      <td>1</td>\n",
              "    </tr>\n",
              "    <tr>\n",
              "      <th>16</th>\n",
              "      <td>17</td>\n",
              "      <td>38</td>\n",
              "      <td>14</td>\n",
              "      <td>130</td>\n",
              "      <td>95010</td>\n",
              "      <td>4</td>\n",
              "      <td>4.7</td>\n",
              "      <td>3</td>\n",
              "      <td>134</td>\n",
              "      <td>1</td>\n",
              "      <td>0</td>\n",
              "      <td>0</td>\n",
              "      <td>0</td>\n",
              "      <td>0</td>\n",
              "    </tr>\n",
              "    <tr>\n",
              "      <th>17</th>\n",
              "      <td>18</td>\n",
              "      <td>42</td>\n",
              "      <td>18</td>\n",
              "      <td>81</td>\n",
              "      <td>94305</td>\n",
              "      <td>4</td>\n",
              "      <td>2.4</td>\n",
              "      <td>1</td>\n",
              "      <td>0</td>\n",
              "      <td>0</td>\n",
              "      <td>0</td>\n",
              "      <td>0</td>\n",
              "      <td>0</td>\n",
              "      <td>0</td>\n",
              "    </tr>\n",
              "    <tr>\n",
              "      <th>18</th>\n",
              "      <td>19</td>\n",
              "      <td>46</td>\n",
              "      <td>21</td>\n",
              "      <td>193</td>\n",
              "      <td>91604</td>\n",
              "      <td>2</td>\n",
              "      <td>8.1</td>\n",
              "      <td>3</td>\n",
              "      <td>0</td>\n",
              "      <td>1</td>\n",
              "      <td>0</td>\n",
              "      <td>0</td>\n",
              "      <td>0</td>\n",
              "      <td>0</td>\n",
              "    </tr>\n",
              "    <tr>\n",
              "      <th>19</th>\n",
              "      <td>20</td>\n",
              "      <td>55</td>\n",
              "      <td>28</td>\n",
              "      <td>21</td>\n",
              "      <td>94720</td>\n",
              "      <td>1</td>\n",
              "      <td>0.5</td>\n",
              "      <td>2</td>\n",
              "      <td>0</td>\n",
              "      <td>0</td>\n",
              "      <td>1</td>\n",
              "      <td>0</td>\n",
              "      <td>0</td>\n",
              "      <td>1</td>\n",
              "    </tr>\n",
              "  </tbody>\n",
              "</table>\n",
              "</div>"
            ],
            "text/plain": [
              "    ID  Age  Experience  Income  ZIP Code  Family  CCAvg  Education  Mortgage  \\\n",
              "0    1   25           1      49     91107       4    1.6          1         0   \n",
              "1    2   45          19      34     90089       3    1.5          1         0   \n",
              "2    3   39          15      11     94720       1    1.0          1         0   \n",
              "3    4   35           9     100     94112       1    2.7          2         0   \n",
              "4    5   35           8      45     91330       4    1.0          2         0   \n",
              "5    6   37          13      29     92121       4    0.4          2       155   \n",
              "6    7   53          27      72     91711       2    1.5          2         0   \n",
              "7    8   50          24      22     93943       1    0.3          3         0   \n",
              "8    9   35          10      81     90089       3    0.6          2       104   \n",
              "9   10   34           9     180     93023       1    8.9          3         0   \n",
              "10  11   65          39     105     94710       4    2.4          3         0   \n",
              "11  12   29           5      45     90277       3    0.1          2         0   \n",
              "12  13   48          23     114     93106       2    3.8          3         0   \n",
              "13  14   59          32      40     94920       4    2.5          2         0   \n",
              "14  15   67          41     112     91741       1    2.0          1         0   \n",
              "15  16   60          30      22     95054       1    1.5          3         0   \n",
              "16  17   38          14     130     95010       4    4.7          3       134   \n",
              "17  18   42          18      81     94305       4    2.4          1         0   \n",
              "18  19   46          21     193     91604       2    8.1          3         0   \n",
              "19  20   55          28      21     94720       1    0.5          2         0   \n",
              "\n",
              "    Personal Loan  Securities Account  CD Account  Online  CreditCard  \n",
              "0               0                   1           0       0           0  \n",
              "1               0                   1           0       0           0  \n",
              "2               0                   0           0       0           0  \n",
              "3               0                   0           0       0           0  \n",
              "4               0                   0           0       0           1  \n",
              "5               0                   0           0       1           0  \n",
              "6               0                   0           0       1           0  \n",
              "7               0                   0           0       0           1  \n",
              "8               0                   0           0       1           0  \n",
              "9               1                   0           0       0           0  \n",
              "10              0                   0           0       0           0  \n",
              "11              0                   0           0       1           0  \n",
              "12              0                   1           0       0           0  \n",
              "13              0                   0           0       1           0  \n",
              "14              0                   1           0       0           0  \n",
              "15              0                   0           0       1           1  \n",
              "16              1                   0           0       0           0  \n",
              "17              0                   0           0       0           0  \n",
              "18              1                   0           0       0           0  \n",
              "19              0                   1           0       0           1  "
            ]
          },
          "metadata": {
            "tags": []
          },
          "execution_count": 3
        }
      ]
    },
    {
      "cell_type": "code",
      "metadata": {
        "id": "HUOdSyo6AIj2"
      },
      "source": [
        "features=['Age', 'Experience', 'Income', 'Family', 'CCAvg',\n",
        "       'Education', 'Mortgage', 'Securities Account',\n",
        "       'CD Account', 'Online', 'CreditCard']"
      ],
      "execution_count": null,
      "outputs": []
    },
    {
      "cell_type": "code",
      "metadata": {
        "id": "0-R2jU3XB_Z3"
      },
      "source": [
        "X=df[features]\n",
        "y=df['Personal Loan']\n"
      ],
      "execution_count": null,
      "outputs": []
    },
    {
      "cell_type": "code",
      "metadata": {
        "id": "jCJD-o1UCO7c"
      },
      "source": [
        "from sklearn.model_selection import train_test_split\n",
        "\n",
        "X_train,X_test,y_train,y_test=train_test_split(X,y,random_state=0)"
      ],
      "execution_count": null,
      "outputs": []
    },
    {
      "cell_type": "code",
      "metadata": {
        "id": "9ih0L6ekCRcl",
        "outputId": "aa15ea4d-7ef9-4f13-83f0-3d3cb9608ffb",
        "colab": {
          "base_uri": "https://localhost:8080/",
          "height": 243
        }
      },
      "source": [
        "from sklearn.tree import DecisionTreeClassifier\n",
        "\n",
        "model=DecisionTreeClassifier(random_state=0)\n",
        "model.fit(X_train,y_train)\n",
        "\n",
        "predicted_value1=model.predict(X_test)\n",
        "print(predicted_value1)\n",
        "\n",
        "#print(y_test)"
      ],
      "execution_count": null,
      "outputs": [
        {
          "output_type": "stream",
          "text": [
            "[0 0 0 ... 0 0 0]\n"
          ],
          "name": "stdout"
        }
      ]
    },
    {
      "cell_type": "code",
      "metadata": {
        "id": "Vnd0h2QrEpaP",
        "outputId": "13c91a61-e894-4f60-cd2b-e05b95ec6da1",
        "colab": {
          "base_uri": "https://localhost:8080/",
          "height": 52
        }
      },
      "source": [
        "#now checking accuracy for train and test\n",
        "\n",
        "print(\"train acc : \",model.score(X_train,y_train))\n",
        "print(\"test acc : \",model.score(X_test,y_test))\n"
      ],
      "execution_count": null,
      "outputs": [
        {
          "output_type": "stream",
          "text": [
            "train acc :  1.0\n",
            "test acc :  0.9792\n"
          ],
          "name": "stdout"
        }
      ]
    },
    {
      "cell_type": "code",
      "metadata": {
        "id": "c7QzrNfQHRPv",
        "outputId": "99186ba7-3bdf-4361-fddd-aae5ea6621bb",
        "colab": {
          "base_uri": "https://localhost:8080/",
          "height": 52
        }
      },
      "source": [
        "#here we have set depth of tree\n",
        "\n",
        "model=DecisionTreeClassifier(max_depth=20,random_state=0)\n",
        "model.fit(X_train,y_train)\n",
        "\n",
        "\n",
        "predicted_value2=model.predict(X_test)\n",
        "\n",
        "print(\"train acc : \",model.score(X_train,y_train))\n",
        "print(\"test acc : \",model.score(X_test,y_test))\n"
      ],
      "execution_count": null,
      "outputs": [
        {
          "output_type": "stream",
          "text": [
            "train acc :  1.0\n",
            "test acc :  0.9792\n"
          ],
          "name": "stdout"
        }
      ]
    },
    {
      "cell_type": "code",
      "metadata": {
        "id": "4eKs0oT_IAaK",
        "outputId": "cec27820-fb5a-46cd-e990-d9c0a34bb3e5",
        "colab": {
          "base_uri": "https://localhost:8080/",
          "height": 121
        }
      },
      "source": [
        "#random forest classfier\n",
        "\n",
        "from sklearn.ensemble import RandomForestClassifier\n",
        "\n",
        "model=RandomForestClassifier(n_estimators=5)\n",
        "model.fit(X_train,y_train)\n",
        "predicted_value3=model.predict(X_test)\n",
        "print(\"Using Random forest\")\n",
        "print(\"train acc : \",model.score(X_train,y_train))\n",
        "print(\"test acc : \",model.score(X_test,y_test))\n",
        "\n",
        "from sklearn.linear_model import LogisticRegression\n",
        "\n",
        "model=LogisticRegression(C=100)\n",
        "model.fit(X_train,y_train)\n",
        "predicted_value4=model.predict(X_test)\n",
        "print(\"Using logistic reg\")\n",
        "print(\"train acc : \",model.score(X_train,y_train))\n",
        "print(\"test acc : \",model.score(X_test,y_test))\n"
      ],
      "execution_count": null,
      "outputs": [
        {
          "output_type": "stream",
          "text": [
            "Using Random forest\n",
            "train acc :  0.9989333333333333\n",
            "test acc :  0.9792\n",
            "Using logistic reg\n",
            "train acc :  0.9469333333333333\n",
            "test acc :  0.9528\n"
          ],
          "name": "stdout"
        },
        {
          "output_type": "stream",
          "text": [
            "C:\\Users\\lappy\\anaconda3\\lib\\site-packages\\sklearn\\linear_model\\_logistic.py:762: ConvergenceWarning: lbfgs failed to converge (status=1):\n",
            "STOP: TOTAL NO. of ITERATIONS REACHED LIMIT.\n",
            "\n",
            "Increase the number of iterations (max_iter) or scale the data as shown in:\n",
            "    https://scikit-learn.org/stable/modules/preprocessing.html\n",
            "Please also refer to the documentation for alternative solver options:\n",
            "    https://scikit-learn.org/stable/modules/linear_model.html#logistic-regression\n",
            "  n_iter_i = _check_optimize_result(\n"
          ],
          "name": "stderr"
        }
      ]
    },
    {
      "cell_type": "code",
      "metadata": {
        "id": "FyqbPTCkSxWs",
        "outputId": "bc1c1de5-2031-4ca9-aeb4-f6b472f7a971",
        "colab": {
          "base_uri": "https://localhost:8080/",
          "height": 104
        }
      },
      "source": [
        "print(\"using SVM\")\n",
        "\n",
        "from sklearn.svm import LinearSVC\n",
        "model=LinearSVC()\n",
        "model.fit(X_train,y_train)\n",
        "predicted_value5=model.predict(X_test)\n",
        "print(\"train acc : \",model.score(X_train,y_train))\n",
        "print(\"test acc : \",model.score(X_test,y_test))\n",
        "\n"
      ],
      "execution_count": null,
      "outputs": [
        {
          "output_type": "stream",
          "text": [
            "using SVM\n",
            "train acc :  0.9197333333333333\n",
            "test acc :  0.9152\n"
          ],
          "name": "stdout"
        },
        {
          "output_type": "stream",
          "text": [
            "C:\\Users\\lappy\\anaconda3\\lib\\site-packages\\sklearn\\svm\\_base.py:976: ConvergenceWarning: Liblinear failed to converge, increase the number of iterations.\n",
            "  warnings.warn(\"Liblinear failed to converge, increase \"\n"
          ],
          "name": "stderr"
        }
      ]
    },
    {
      "cell_type": "code",
      "metadata": {
        "id": "cec_fz8GVD6E"
      },
      "source": [
        "final_prediction=(predicted_value1+predicted_value2+predicted_value3+predicted_value4+predicted_value5)/5\n"
      ],
      "execution_count": null,
      "outputs": []
    },
    {
      "cell_type": "code",
      "metadata": {
        "id": "K3ODsme-lAQ5"
      },
      "source": [
        "final_prediction[final_prediction>=0.5]=1\n",
        "final_prediction[final_prediction<0.5]=0\n"
      ],
      "execution_count": null,
      "outputs": []
    },
    {
      "cell_type": "code",
      "metadata": {
        "id": "dXemRoSSlAQ8",
        "outputId": "aa5df95c-1b40-48a7-c18f-7672e1d17559"
      },
      "source": [
        "final_prediction=final_prediction.reshape(-1,1)\n",
        "\n",
        "#print(\"test acc : \",model.score(final_prediction,y_test))\n",
        "from sklearn.metrics import accuracy_score\n",
        "\n",
        "print(\"Final Accuracy  :  \",accuracy_score(y_test,final_prediction))"
      ],
      "execution_count": null,
      "outputs": [
        {
          "output_type": "stream",
          "text": [
            "Final Accuracy  :   0.9816\n"
          ],
          "name": "stdout"
        }
      ]
    },
    {
      "cell_type": "code",
      "metadata": {
        "id": "VeAFMfR5lARA"
      },
      "source": [
        ""
      ],
      "execution_count": null,
      "outputs": []
    }
  ]
}